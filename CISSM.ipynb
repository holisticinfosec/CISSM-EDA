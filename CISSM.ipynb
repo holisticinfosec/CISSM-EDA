{
 "cells": [
  {
   "cell_type": "markdown",
   "metadata": {
    "id": "DSTy5AZGiVzf"
   },
   "source": [
    "## Exploratory Data Analysis (EDA) of the University of Maryland’s Center for International and Security Studies (CISSM) Cyber Attacks Database (CAD)\n",
    "### A companion notebook to https://holisticinfosec.io/post/eda-cissm-cad/\n",
    "\n",
    "*   Dependencies\n",
    "*   dataxray\n",
    "*   janitor, CGPfunctions, vtree\n",
    "*   Model\n",
    "*   Forecasts\n",
    "*   Graphs\n"
   ]
  },
  {
   "cell_type": "markdown",
   "metadata": {},
   "source": [
    "### Install dependencies if needed"
   ]
  },
  {
   "cell_type": "code",
   "execution_count": null,
   "metadata": {
    "tags": []
   },
   "outputs": [],
   "source": [
    "my_packages <- c(\"correlationfunnel\", \"devtools\", \"forecast\", \"fpp2\", \"CGPfunctions\", \"ggpubr\", \"janitor\", \"tidyverse\", \"tsibble\", \"TTR\", \"vtree\")  # Specify your packages\n",
    "not_installed <- my_packages[!(my_packages %in% installed.packages()[ , \"Package\"])]    # Extract packages to be installed\n",
    "if(length(not_installed)) install.packages(not_installed)                               # Install packages\n",
    "devtools::install_github(\"holisticinfosec/dataxray\") # Install dataxray"
   ]
  },
  {
   "cell_type": "markdown",
   "metadata": {},
   "source": [
    "### Load libraries, ingest data, build data frame, and tsibble"
   ]
  },
  {
   "cell_type": "code",
   "execution_count": null,
   "metadata": {
    "colab": {
     "base_uri": "https://localhost:8080/"
    },
    "id": "ysdZ2dA6jCBW",
    "outputId": "0a3ab1ed-d220-4154-c068-bd41a2cda808",
    "tags": []
   },
   "outputs": [],
   "source": [
    "library(dataxray)\n",
    "library(forecast)\n",
    "library(fpp2)\n",
    "library(CGPfunctions)\n",
    "library(ggpubr)\n",
    "library(janitor)\n",
    "library(tidyverse)\n",
    "library(tsibble)\n",
    "library(TTR)\n",
    "library(vtree)\n",
    "\n",
    "df <- read_csv(\"CISSM-export.csv\", show_col_types = FALSE)\n",
    "\n",
    "evtType <- tabyl(df, evtDate, event_type)\n",
    "\n",
    "df1 <- as_tibble(evtType)\n",
    "\n",
    "# create all event tsibble\n",
    "df1 |>\n",
    "  mutate(evtDate = yearmonth(evtDate)) |>\n",
    "  as_tsibble(index = evtDate) -> AllEvents\n",
    "\n",
    "# create disruptive events tsibble\n",
    "AllEvents |> select(evtDate,Disruptive) -> disruptive\n",
    "\n",
    "# create exploitative events tsibble\n",
    "AllEvents |> select(evtDate,Exploitative) -> exploitative"
   ]
  },
  {
   "cell_type": "markdown",
   "metadata": {},
   "source": [
    "### dataxray"
   ]
  },
  {
   "cell_type": "code",
   "execution_count": null,
   "metadata": {
    "tags": []
   },
   "outputs": [],
   "source": [
    "df %>%\n",
    "  report_xray(data_name = 'CISSM', study = 'ggplot2')"
   ]
  },
  {
   "cell_type": "markdown",
   "metadata": {},
   "source": [
    "### janitor"
   ]
  },
  {
   "cell_type": "code",
   "execution_count": null,
   "metadata": {
    "tags": []
   },
   "outputs": [],
   "source": [
    "table(df$event_type)\n",
    "\n",
    "df %>% \n",
    "  count(event_type)\n",
    "\n",
    "tabyl(df, event_type, motive)\n",
    "\n",
    "tabyl(df, event_type, motive) %>%\n",
    "  adorn_percentages(\"col\") %>%\n",
    "  adorn_pct_formatting(digits = 1)"
   ]
  },
  {
   "cell_type": "markdown",
   "metadata": {},
   "source": [
    "### CGPfunctions"
   ]
  },
  {
   "cell_type": "code",
   "execution_count": null,
   "metadata": {
    "tags": []
   },
   "outputs": [],
   "source": [
    "PlotXTabs2(df, event_type, motive, title = \"Event Type by Motive\")"
   ]
  },
  {
   "cell_type": "markdown",
   "metadata": {},
   "source": [
    "### vtree"
   ]
  },
  {
   "cell_type": "code",
   "execution_count": null,
   "metadata": {
    "tags": []
   },
   "outputs": [],
   "source": [
    "vtree(df, \"event_type\")\n",
    "vtree(df, \"motive\", showcount = FALSE)\n",
    "vtree(df, c(\"event_type\", \"motive\"), showcount = FALSE, horiz = FALSE)"
   ]
  },
  {
   "cell_type": "markdown",
   "metadata": {},
   "source": [
    "### Model disruptive events"
   ]
  },
  {
   "cell_type": "code",
   "execution_count": null,
   "metadata": {
    "colab": {
     "base_uri": "https://localhost:8080/",
     "height": 96
    },
    "id": "hVMaJGqm_UDQ",
    "outputId": "8ca697d9-f444-4816-d9af-02d108699a67",
    "tags": []
   },
   "outputs": [],
   "source": [
    "# model disruptive events\n",
    "\n",
    "naive_model_disruptive <- naive(disruptive, h = 12) # RMSE = 22.6, MAE = 15.9\n",
    "summary(naive_model_disruptive)\n",
    "\n",
    "ses_model_disruptive <- ses(disruptive$Disruptive, h = 12) # RMSE = 19.5, MAE = 13.9\n",
    "summary(ses_model_disruptive)\n",
    "\n",
    "arima_model_disruptive <- auto.arima(disruptive) # RMSE = 18.3, MAE = 13.5\n",
    "summary(arima_model_disruptive)"
   ]
  },
  {
   "cell_type": "markdown",
   "metadata": {},
   "source": [
    "### Model exploitative events"
   ]
  },
  {
   "cell_type": "code",
   "execution_count": null,
   "metadata": {},
   "outputs": [],
   "source": [
    "# model exploitative events\n",
    "\n",
    "naive_model_exploitative <- naive(exploitative, h = 12) # RMSE = 20.5, MAE = 15.4\n",
    "summary(naive_model_exploitative)\n",
    "\n",
    "ses_model_exploitative <- ses(exploitative$Exploitative, h = 12) # RMSE = 18.8, MAE = 13.9\n",
    "summary(ses_model_exploitative)\n",
    "\n",
    "arima_model_exploitative <- auto.arima(exploitative) # RMSE = 18.2, MAE = 13.6\n",
    "summary(arima_model_exploitative)"
   ]
  },
  {
   "cell_type": "markdown",
   "metadata": {},
   "source": [
    "### Plot all events"
   ]
  },
  {
   "cell_type": "code",
   "execution_count": null,
   "metadata": {},
   "outputs": [],
   "source": [
    "autoplot(as.ts(AllEvents))"
   ]
  },
  {
   "cell_type": "markdown",
   "metadata": {},
   "source": [
    "### Plot disruptive events and models"
   ]
  },
  {
   "cell_type": "code",
   "execution_count": null,
   "metadata": {},
   "outputs": [],
   "source": [
    "# plot disruptive events only\n",
    "autoplot(as.ts(disruptive))\n",
    "\n",
    "# forecast disruptive models with individual plots\n",
    "forecast(naive_model_disruptive) %>% autoplot()\n",
    "forecast(ses_model_disruptive) %>% autoplot()\n",
    "forecast(arima_model_disruptive) %>% autoplot()\n",
    "\n",
    "# forecast disruptive models with joined plot\n",
    "naiveDIS = forecast(naive_model_disruptive) %>% autoplot()\n",
    "sesDIS = forecast(ses_model_disruptive) %>% autoplot()\n",
    "arimaDIS = forecast(arima_model_disruptive) %>% autoplot()\n",
    "\n",
    "multi.pageDIS <- ggarrange(naiveDIS, sesDIS, arimaDIS,\n",
    "                        nrow = 3, ncol = 1)\n",
    "\n",
    "multi.pageDIS"
   ]
  },
  {
   "cell_type": "markdown",
   "metadata": {},
   "source": [
    "### Plot exploitative events and models"
   ]
  },
  {
   "cell_type": "code",
   "execution_count": null,
   "metadata": {
    "tags": []
   },
   "outputs": [],
   "source": [
    "# plot exploitative events only\n",
    "autoplot(as.ts(exploitative))\n",
    "\n",
    "# forecast exploitative models with individual plots\n",
    "forecast(naive_model_exploitative) %>% autoplot()\n",
    "forecast(ses_model_exploitative) %>% autoplot()\n",
    "forecast(arima_model_exploitative) %>% autoplot()\n",
    "\n",
    "# forecast disruptive models with joined plot\n",
    "naiveEXP = forecast(naive_model_exploitative) %>% autoplot()\n",
    "sesEXP = forecast(ses_model_exploitative) %>% autoplot()\n",
    "arimaEXP = forecast(arima_model_exploitative) %>% autoplot()\n",
    "\n",
    "multi.pageEXP <- ggarrange(naiveEXP, sesEXP, arimaEXP,\n",
    "                        nrow = 3, ncol = 1)"
   ]
  },
  {
   "cell_type": "code",
   "execution_count": null,
   "metadata": {},
   "outputs": [],
   "source": []
  }
 ],
 "metadata": {
  "colab": {
   "provenance": []
  },
  "kernelspec": {
   "display_name": "R",
   "language": "R",
   "name": "ir"
  },
  "language_info": {
   "codemirror_mode": "r",
   "file_extension": ".r",
   "mimetype": "text/x-r-source",
   "name": "R",
   "pygments_lexer": "r",
   "version": "4.3.0"
  }
 },
 "nbformat": 4,
 "nbformat_minor": 4
}
